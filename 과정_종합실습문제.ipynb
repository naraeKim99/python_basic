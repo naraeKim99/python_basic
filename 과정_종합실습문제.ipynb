{
 "cells": [
  {
   "cell_type": "markdown",
   "id": "8c5d48da",
   "metadata": {
    "id": "710ee378"
   },
   "source": [
    "# 종합실습"
   ]
  },
  {
   "cell_type": "markdown",
   "id": "e81d333d",
   "metadata": {
    "id": "e30eb3da"
   },
   "source": [
    "## 과제1. 회원 관리 프로그램"
   ]
  },
  {
   "cell_type": "markdown",
   "id": "d7ad3655",
   "metadata": {
    "id": "8e48b532"
   },
   "source": [
    "* 회원 이름과 이메일 주소를 입력받아 엑셀에 저장하는 프로그램을 만드시오.\n",
    "* 'members.xlsx’ 파일에는 이미 두명의 회원이 등록되어 있습니다. \n",
    "\n",
    "* 기본 기능  \n",
    "> * 이름, 이메일, 전화번호를 입력 받아 (한꺼번에 입력받아, 리스트로 만들어 처리. .split 활용)\n",
    "> * 엑셀 틀에 맞게 제일 마지막 행에 저장\n",
    "> * 단, 이메일 주소는 실제 메일 수신 가능해야 합니다.\n",
    "\n",
    "* 심화 기능\n",
    "> * 입력값 확인. 값이 3개,  쉼표로 구분된 값인지 확인.\n",
    "> * 회원 가입을 계속할지, 종료할지를 묻기"
   ]
  },
  {
   "cell_type": "code",
   "execution_count": 4,
   "id": "144a5fed",
   "metadata": {
    "id": "5bcbadaf",
    "scrolled": true
   },
   "outputs": [
    {
     "name": "stdout",
     "output_type": "stream",
     "text": [
      "[회원가입 프로그램]\n",
      "회원가입을 원하시면 1, 원하지 않으시면 2를 입력해 주세요 : 1\n",
      "이름, 이메일, 전화번호 : 김나래, nare0217@naver,com, 010-1111-1111\n",
      "잘못 입력하셨습니다. 프로그램을 종료합니다.\n",
      "[회원가입 프로그램]\n",
      "회원가입을 원하시면 1, 원하지 않으시면 2를 입력해 주세요 : 1\n",
      "이름, 이메일, 전화번호 : 김나래, nare0217@naver.com, 010-0000-0000\n",
      "[회원가입 프로그램]\n",
      "회원가입을 원하시면 1, 원하지 않으시면 2를 입력해 주세요 : 2\n",
      "프로그램을 종료합니다.\n"
     ]
    }
   ],
   "source": [
    "import openpyxl as xl\n",
    "\n",
    "\n",
    "while True:\n",
    "    print('[회원가입 프로그램]')\n",
    "    a=int(input('회원가입을 원하시면 1, 원하지 않으시면 2를 입력해 주세요 : '))\n",
    "    if a==2:\n",
    "        print('프로그램을 종료합니다.')\n",
    "        break\n",
    "    elif a==1:\n",
    "        information=input('이름, 이메일, 전화번호 : ')\n",
    "        info=information.split(',')\n",
    "        if len(info)!=3:\n",
    "            print('잘못 입력하셨습니다. 프로그램을 종료합니다.')\n",
    "        else:\n",
    "            wb=xl.load_workbook('members.xlsx')\n",
    "            sh=wb['Sheet1']\n",
    "            \n",
    "            start_r=sh.max_row+1\n",
    "            sh.cell(start_r,1).value=info[0].strip()\n",
    "            sh.cell(start_r,2).value=info[1].strip()\n",
    "            sh.cell(start_r,3).value=info[2].strip()\n",
    "            wb.save('members.xlsx')\n",
    "            \n",
    "    else:\n",
    "        print('다시 입력해 주십시오.')\n",
    "        print('\\n')\n"
   ]
  },
  {
   "cell_type": "markdown",
   "id": "562ae599",
   "metadata": {
    "id": "8f3a1740"
   },
   "source": [
    "## 과제2. 회원들에게 이메일 발송"
   ]
  },
  {
   "cell_type": "markdown",
   "id": "d92aa09e",
   "metadata": {
    "id": "7840678c"
   },
   "source": [
    "* 과제1에서 저장된 회원정보(members.xlsx)를 읽어서 회원 각각에게 이메일을 보내 봅시다.\n",
    "\n",
    "> * 제목 : “2021년 송년 인사”\n",
    "> * 내용 :  \n",
    ">     OOO 회원님 안녕하세요?  \n",
    "벌써 2021년도 저물어 가고 있습니다.  \n",
    "올 한해 정말 수고 많았습니다.   \n",
    "첨부한 커피 쿠폰으로 조금이나마 따뜻한 연말을 보내시기 바랍니다.  \n",
    "감사합니다. \n",
    "\n",
    "> * 회원마다 보내지는 이메일에서 각자 달라지는 것은,\t수신 이메일 주소, 메일 내용에서의 회원 이름 입니다."
   ]
  },
  {
   "cell_type": "code",
   "execution_count": 6,
   "id": "1db0ccaf",
   "metadata": {
    "id": "5c5a29a9"
   },
   "outputs": [
    {
     "data": {
      "text/plain": [
       "(221, b'2.0.0 closing connection k8sm2677048pjs.53 - gsmtp')"
      ]
     },
     "execution_count": 6,
     "metadata": {},
     "output_type": "execute_result"
    }
   ],
   "source": [
    "import openpyxl as xl\n",
    "import smtplib\n",
    "from email.mime.text import MIMEText\n",
    "\n",
    "myemail='nare990217@gmail.com'\n",
    "app_pw='vlzewogzocjoumvg'\n",
    "\n",
    "s = smtplib.SMTP('smtp.gmail.com', 587)\n",
    "s.starttls()\n",
    "s.login(myemail, app_pw)\n",
    "\n",
    "wb=xl.load_workbook('members.xlsx')\n",
    "sh=wb['Sheet1']\n",
    "max_r=sh.max_row\n",
    "\n",
    "for i in range(2,max_r+1):\n",
    "    name=sh.cell(i,1).value\n",
    "    email=sh.cell(i,2).value\n",
    "    \n",
    "    msg = MIMEText(f'''{name} 회원님 안녕하세요?\n",
    "벌써 2021년도 저물어 가고 있습니다.\n",
    "올 한해 정말 수고 많았습니다.\n",
    "첨부한 커피 쿠폰으로 조금이나마 따뜻한 연말을 보내시기 바랍니다.\n",
    "감사합니다.''')\n",
    "    msg['Subject'] = '2021년 송년 인사'\n",
    "\n",
    "    s.sendmail(myemail, email, msg.as_string())\n",
    "s.quit()  "
   ]
  },
  {
   "cell_type": "code",
   "execution_count": null,
   "id": "717c422b",
   "metadata": {},
   "outputs": [],
   "source": []
  }
 ],
 "metadata": {
  "colab": {
   "collapsed_sections": [],
   "name": "과정_종합실습문제.ipynb",
   "provenance": []
  },
  "kernelspec": {
   "display_name": "Python 3",
   "language": "python",
   "name": "python3"
  },
  "language_info": {
   "codemirror_mode": {
    "name": "ipython",
    "version": 3
   },
   "file_extension": ".py",
   "mimetype": "text/x-python",
   "name": "python",
   "nbconvert_exporter": "python",
   "pygments_lexer": "ipython3",
   "version": "3.8.8"
  }
 },
 "nbformat": 4,
 "nbformat_minor": 5
}
